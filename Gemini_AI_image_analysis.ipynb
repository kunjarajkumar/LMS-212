{
  "nbformat": 4,
  "nbformat_minor": 0,
  "metadata": {
    "colab": {
      "provenance": []
    },
    "kernelspec": {
      "name": "python3",
      "display_name": "Python 3"
    },
    "language_info": {
      "name": "python"
    }
  },
  "cells": [
    {
      "cell_type": "code",
      "execution_count": 20,
      "metadata": {
        "id": "nCjkbi4cXcuY"
      },
      "outputs": [],
      "source": [
        "import google.generativeai as genai\n",
        "from google.colab import userdata\n",
        "\n",
        "GOOGLE_API_KEY=userdata.get('GOOGLE_API_KEY')\n",
        "genai.configure(api_key=GOOGLE_API_KEY)"
      ]
    },
    {
      "cell_type": "code",
      "source": [
        "import pathlib\n",
        "import textwrap\n",
        "\n",
        "from IPython.display import display, Markdown\n",
        "\n",
        "def to_markdown(text):\n",
        "    text = text.replace('*', ' - ')\n",
        "    return Markdown(textwrap.indent(text, '> ', predicate=lambda _: True))"
      ],
      "metadata": {
        "id": "4x7nC8K0YJrM"
      },
      "execution_count": 21,
      "outputs": []
    },
    {
      "cell_type": "code",
      "source": [
        "import PIL.Image\n",
        "import google.generativeai as genai\n",
        "img = PIL.Image.open('/content/image1.jpg')\n",
        "img\n",
        "\n",
        "model = genai.GenerativeModel('gemini-1.5-flash')\n",
        "response = model.generate_content([\"Write a short, engaging post based on this picture. It should include a description of the meal in the photo and talk about my journey meal prepping .\", img],\n",
        "stream=True)\n",
        "response.resolve()"
      ],
      "metadata": {
        "id": "Eb6PtRWgZUMP"
      },
      "execution_count": 24,
      "outputs": []
    },
    {
      "cell_type": "code",
      "source": [
        "to_markdown(response.text)"
      ],
      "metadata": {
        "colab": {
          "base_uri": "https://localhost:8080/",
          "height": 382
        },
        "id": "vH2gRDk4bG_o",
        "outputId": "4c1fe81d-bfd5-494e-d315-c7017c2b3fd4"
      },
      "execution_count": 25,
      "outputs": [
        {
          "output_type": "execute_result",
          "data": {
            "text/plain": [
              "<IPython.core.display.Markdown object>"
            ],
            "text/markdown": "> Here's a short, engaging social media post based on the image:\n> \n>  -  - Option 1 (Focus on the meal): -  - \n> \n> \"Lunch goals! ✨  This teriyaki chicken and broccoli bowl with rice and carrots is my new favorite meal prep recipe.  So easy to make and packed with flavor and nutrients.  Who needs takeout when you can have this deliciousness all week?  #mealprep #healthyfood #teriyaki #lunchideas #cleaneating\"\n> \n> \n>  -  - Option 2 (Focus on the journey): -  - \n> \n> \"My meal prep game has officially leveled up! 🙌  Used to dread meal prepping, but now it's my happy place. This week's creation:  delicious teriyaki chicken and veggies over fluffy rice.  Feeling so organized and excited for healthy, delicious lunches all week. What's your favorite thing to meal prep? #mealprepmonday #healthylifestyle #foodie #progressnotperfection #mealprepinspiration\"\n> \n> \n>  -  - Option 3 (Shorter, punchier): -  - \n> \n> \"Teriyaki chicken and veggie bowls - meal prepped and ready to conquer the week! 💪 #mealprep #healthyfood #delicious\"\n> \n> \n> Remember to add the image when you post!  You can also adjust the hashtags to fit your preferred style and audience.\n"
          },
          "metadata": {},
          "execution_count": 25
        }
      ]
    },
    {
      "cell_type": "code",
      "source": [
        "response=model.generate_content([\"generate an accurate captiion for this image.\",img])\n",
        "print(response.text)"
      ],
      "metadata": {
        "colab": {
          "base_uri": "https://localhost:8080/",
          "height": 436
        },
        "id": "LpKqmCGqcCS5",
        "outputId": "731f5920-b7d2-49d8-85a7-ec64d3d36d72"
      },
      "execution_count": 26,
      "outputs": [
        {
          "output_type": "stream",
          "name": "stdout",
          "text": [
            "Here are a few caption options for the image:\n",
            "\n",
            "**Option 1 (Simple & Descriptive):**\n",
            "\n",
            "> Healthy and delicious meal prep!  Chicken and broccoli with rice and carrots.\n",
            "\n",
            "**Option 2 (More Engaging):**\n",
            "\n",
            "> Lunch goals! These teriyaki chicken and veggie bowls are packed with flavor and ready to go.  #mealprep #healthyfood #lunchideas\n",
            "\n",
            "\n",
            "**Option 3 (Focus on Convenience):**\n",
            "\n",
            "> Easy weeknight dinners sorted!  Grab-and-go meal prep containers make healthy eating simple. #mealprepsunday #healthylifestyle #convenientmeals\n",
            "\n",
            "\n",
            "**Option 4 (A bit more playful):**\n",
            "\n",
            "> My happy place: a fridge full of delicious, healthy meal prepped goodness!  Who's hungry? #foodie #healthyfood #mealprepping\n",
            "\n",
            "\n",
            "Choose the caption that best suits your intended audience and platform.\n",
            "\n"
          ]
        }
      ]
    },
    {
      "cell_type": "code",
      "source": [
        "from PIL import Image\n",
        "image_path=\"girl.jpg\"\n",
        "image = Image.open(image_path)\n",
        "response = model.generate_content([\"Describe this image in detail.\",image])\n",
        "print(response.text)"
      ],
      "metadata": {
        "colab": {
          "base_uri": "https://localhost:8080/",
          "height": 263
        },
        "id": "KVRjYViAe86r",
        "outputId": "7ace47b7-103d-4795-8313-2aa715d5c9ef"
      },
      "execution_count": 28,
      "outputs": [
        {
          "output_type": "stream",
          "name": "stdout",
          "text": [
            "Here's a description of the image:\n",
            "\n",
            "Close-up view of a woman with shoulder-length, curly brown hair. \n",
            "\n",
            "\n",
            "She is smiling and pointing to her left with her right index finger. Her arms are crossed, and her right hand is prominently featured, displaying the pointing gesture. \n",
            "\n",
            "\n",
            "She's wearing a teal-colored, three-quarter-sleeved top or tunic with a subtle gold or light-colored pattern that appears to be a small floral or paisley design. The neckline is a modest, slightly open V-neck. \n",
            "\n",
            "\n",
            "The background is a plain, bright white, which keeps the focus entirely on the woman. The overall lighting is soft and even, typical of a studio portrait. The woman appears to be of South Asian descent. Her expression is friendly and inviting.\n",
            "\n"
          ]
        }
      ]
    },
    {
      "cell_type": "code",
      "source": [
        "response=model.generate_content([\"what emotions can you detect from the image\", image])\n",
        "print(response.text)"
      ],
      "metadata": {
        "colab": {
          "base_uri": "https://localhost:8080/",
          "height": 193
        },
        "id": "EIA-WF_lf4h7",
        "outputId": "919e1107-a40d-44f5-e4cc-805af2c8c7b4"
      },
      "execution_count": 29,
      "outputs": [
        {
          "output_type": "stream",
          "name": "stdout",
          "text": [
            "The woman in the image appears to be expressing:\n",
            "\n",
            "* **Happiness/Contentment:** Her smile is genuine and relaxed, suggesting a positive emotional state.\n",
            "* **Friendliness/Approachability:**  Her pose and gesture (pointing) suggest she is open and inviting.\n",
            "* **Helpfulness/Guidance:** The pointing gesture implies she's offering information or direction.\n",
            "* **Confidence:** Her posture and direct gaze project confidence.\n",
            "\n",
            "There is no indication of negative emotions in the image.\n",
            "\n"
          ]
        }
      ]
    },
    {
      "cell_type": "code",
      "source": [],
      "metadata": {
        "id": "-3ok8D_Eh1hC"
      },
      "execution_count": null,
      "outputs": []
    }
  ]
}